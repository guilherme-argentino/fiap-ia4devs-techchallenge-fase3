{
  "cells": [
    {
      "cell_type": "markdown",
      "metadata": {
        "colab_type": "text",
        "id": "view-in-github"
      },
      "source": [
        "<a href=\"https://colab.research.google.com/github/guilherme-argentino/fiap-ia4devs-techchallenge-fase3/blob/main/Fase3_TechChallenge.ipynb\" target=\"_parent\"><img src=\"https://colab.research.google.com/assets/colab-badge.svg\" alt=\"Open In Colab\"/></a>"
      ]
    },
    {
      "cell_type": "markdown",
      "metadata": {
        "id": "2UCnH-DobEf1"
      },
      "source": [
        "# Fine-tuning do Modelo BERT com AmazonTitles-1.3M\n",
        "\n",
        "Neste notebook, realizaremos o fine-tuning do modelo BERT (`bert-base-uncased`) usando o dataset \"The AmazonTitles-1.3MM\". O objetivo é treinar o modelo para que ele consiga gerar descrições de produtos com base em seus títulos."
      ]
    },
    {
      "cell_type": "code",
      "execution_count": 6,
      "metadata": {},
      "outputs": [],
      "source": [
        "# Configurações e Variáveis Globais\n",
        "\n",
        "# Configurações de arquivo e diretório\n",
        "ARQUIVO_TREINAMENTO = 'Datasets/LF-AmazonTitles-1.3M/trn.json.gz'\n",
        "DIRETORIO_CHECKPOINTS_LOCAL = './checkpoints'\n",
        "DIRETORIO_CHECKPOINTS_COLAB = '/content/drive/MyDrive/AI_checkpoints'\n",
        "\n",
        "# Configurações de modelo\n",
        "MODELO_BASE = 'bert-base-uncased'\n",
        "NUM_LABELS = 2\n",
        "\n",
        "# Configurações de treinamento\n",
        "TAMANHO_BLOCO = 10000\n",
        "MAX_LENGTH = 128\n",
        "NUM_TRAIN_EPOCHS = 3\n",
        "PER_DEVICE_TRAIN_BATCH_SIZE = 16\n",
        "SAVE_STEPS = 1000\n",
        "SAVE_TOTAL_LIMIT = 2\n",
        "\n",
        "# Configurações de output\n",
        "OUTPUT_DIR = './results'\n",
        "LOGGING_DIR = './logs'"
      ]
    },
    {
      "cell_type": "markdown",
      "metadata": {
        "id": "uGH0B-GzbfE5"
      },
      "source": [
        "### 1. Instalar dependências\n"
      ]
    },
    {
      "cell_type": "code",
      "execution_count": 7,
      "metadata": {
        "colab": {
          "base_uri": "https://localhost:8080/"
        },
        "collapsed": true,
        "id": "P2PvYa8bbEf3",
        "outputId": "717eeca2-280f-41e7-cb64-5e7e82dc8377"
      },
      "outputs": [
        {
          "name": "stdout",
          "output_type": "stream",
          "text": [
            "Requirement already satisfied: datasets in /opt/homebrew/Caskroom/miniconda/base/lib/python3.12/site-packages (3.0.1)\n",
            "Requirement already satisfied: transformers in /opt/homebrew/Caskroom/miniconda/base/lib/python3.12/site-packages (4.45.1)\n",
            "Requirement already satisfied: torch in /opt/homebrew/Caskroom/miniconda/base/lib/python3.12/site-packages (2.4.1)\n",
            "Requirement already satisfied: pandas in /opt/homebrew/Caskroom/miniconda/base/lib/python3.12/site-packages (2.2.3)\n",
            "Requirement already satisfied: gdown in /opt/homebrew/Caskroom/miniconda/base/lib/python3.12/site-packages (5.2.0)\n",
            "Requirement already satisfied: filelock in /opt/homebrew/Caskroom/miniconda/base/lib/python3.12/site-packages (from datasets) (3.16.1)\n",
            "Requirement already satisfied: numpy>=1.17 in /opt/homebrew/Caskroom/miniconda/base/lib/python3.12/site-packages (from datasets) (2.1.1)\n",
            "Requirement already satisfied: pyarrow>=15.0.0 in /opt/homebrew/Caskroom/miniconda/base/lib/python3.12/site-packages (from datasets) (17.0.0)\n",
            "Requirement already satisfied: dill<0.3.9,>=0.3.0 in /opt/homebrew/Caskroom/miniconda/base/lib/python3.12/site-packages (from datasets) (0.3.8)\n",
            "Requirement already satisfied: requests>=2.32.2 in /opt/homebrew/Caskroom/miniconda/base/lib/python3.12/site-packages (from datasets) (2.32.3)\n",
            "Requirement already satisfied: tqdm>=4.66.3 in /opt/homebrew/Caskroom/miniconda/base/lib/python3.12/site-packages (from datasets) (4.66.5)\n",
            "Requirement already satisfied: xxhash in /opt/homebrew/Caskroom/miniconda/base/lib/python3.12/site-packages (from datasets) (3.5.0)\n",
            "Requirement already satisfied: multiprocess in /opt/homebrew/Caskroom/miniconda/base/lib/python3.12/site-packages (from datasets) (0.70.16)\n",
            "Requirement already satisfied: fsspec<=2024.6.1,>=2023.1.0 in /opt/homebrew/Caskroom/miniconda/base/lib/python3.12/site-packages (from fsspec[http]<=2024.6.1,>=2023.1.0->datasets) (2024.6.1)\n",
            "Requirement already satisfied: aiohttp in /opt/homebrew/Caskroom/miniconda/base/lib/python3.12/site-packages (from datasets) (3.10.8)\n",
            "Requirement already satisfied: huggingface-hub>=0.22.0 in /opt/homebrew/Caskroom/miniconda/base/lib/python3.12/site-packages (from datasets) (0.25.1)\n",
            "Requirement already satisfied: packaging in /opt/homebrew/Caskroom/miniconda/base/lib/python3.12/site-packages (from datasets) (24.1)\n",
            "Requirement already satisfied: pyyaml>=5.1 in /opt/homebrew/Caskroom/miniconda/base/lib/python3.12/site-packages (from datasets) (6.0.2)\n",
            "Requirement already satisfied: regex!=2019.12.17 in /opt/homebrew/Caskroom/miniconda/base/lib/python3.12/site-packages (from transformers) (2024.9.11)\n",
            "Requirement already satisfied: safetensors>=0.4.1 in /opt/homebrew/Caskroom/miniconda/base/lib/python3.12/site-packages (from transformers) (0.4.5)\n",
            "Requirement already satisfied: tokenizers<0.21,>=0.20 in /opt/homebrew/Caskroom/miniconda/base/lib/python3.12/site-packages (from transformers) (0.20.0)\n",
            "Requirement already satisfied: typing-extensions>=4.8.0 in /opt/homebrew/Caskroom/miniconda/base/lib/python3.12/site-packages (from torch) (4.12.2)\n",
            "Requirement already satisfied: sympy in /opt/homebrew/Caskroom/miniconda/base/lib/python3.12/site-packages (from torch) (1.13.3)\n",
            "Requirement already satisfied: networkx in /opt/homebrew/Caskroom/miniconda/base/lib/python3.12/site-packages (from torch) (3.3)\n",
            "Requirement already satisfied: jinja2 in /opt/homebrew/Caskroom/miniconda/base/lib/python3.12/site-packages (from torch) (3.1.4)\n",
            "Requirement already satisfied: setuptools in /opt/homebrew/Caskroom/miniconda/base/lib/python3.12/site-packages (from torch) (72.1.0)\n",
            "Requirement already satisfied: python-dateutil>=2.8.2 in /opt/homebrew/Caskroom/miniconda/base/lib/python3.12/site-packages (from pandas) (2.9.0.post0)\n",
            "Requirement already satisfied: pytz>=2020.1 in /opt/homebrew/Caskroom/miniconda/base/lib/python3.12/site-packages (from pandas) (2024.2)\n",
            "Requirement already satisfied: tzdata>=2022.7 in /opt/homebrew/Caskroom/miniconda/base/lib/python3.12/site-packages (from pandas) (2024.2)\n",
            "Requirement already satisfied: accelerate>=0.26.0 in /opt/homebrew/Caskroom/miniconda/base/lib/python3.12/site-packages (from transformers[torch]) (0.34.2)\n",
            "Requirement already satisfied: beautifulsoup4 in /opt/homebrew/Caskroom/miniconda/base/lib/python3.12/site-packages (from gdown) (4.12.3)\n",
            "Requirement already satisfied: psutil in /opt/homebrew/Caskroom/miniconda/base/lib/python3.12/site-packages (from accelerate>=0.26.0->transformers[torch]) (6.0.0)\n",
            "Requirement already satisfied: aiohappyeyeballs>=2.3.0 in /opt/homebrew/Caskroom/miniconda/base/lib/python3.12/site-packages (from aiohttp->datasets) (2.4.2)\n",
            "Requirement already satisfied: aiosignal>=1.1.2 in /opt/homebrew/Caskroom/miniconda/base/lib/python3.12/site-packages (from aiohttp->datasets) (1.3.1)\n",
            "Requirement already satisfied: attrs>=17.3.0 in /opt/homebrew/Caskroom/miniconda/base/lib/python3.12/site-packages (from aiohttp->datasets) (24.2.0)\n",
            "Requirement already satisfied: frozenlist>=1.1.1 in /opt/homebrew/Caskroom/miniconda/base/lib/python3.12/site-packages (from aiohttp->datasets) (1.4.1)\n",
            "Requirement already satisfied: multidict<7.0,>=4.5 in /opt/homebrew/Caskroom/miniconda/base/lib/python3.12/site-packages (from aiohttp->datasets) (6.1.0)\n",
            "Requirement already satisfied: yarl<2.0,>=1.12.0 in /opt/homebrew/Caskroom/miniconda/base/lib/python3.12/site-packages (from aiohttp->datasets) (1.13.1)\n",
            "Requirement already satisfied: six>=1.5 in /opt/homebrew/Caskroom/miniconda/base/lib/python3.12/site-packages (from python-dateutil>=2.8.2->pandas) (1.16.0)\n",
            "Requirement already satisfied: charset-normalizer<4,>=2 in /opt/homebrew/Caskroom/miniconda/base/lib/python3.12/site-packages (from requests>=2.32.2->datasets) (3.3.2)\n",
            "Requirement already satisfied: idna<4,>=2.5 in /opt/homebrew/Caskroom/miniconda/base/lib/python3.12/site-packages (from requests>=2.32.2->datasets) (3.7)\n",
            "Requirement already satisfied: urllib3<3,>=1.21.1 in /opt/homebrew/Caskroom/miniconda/base/lib/python3.12/site-packages (from requests>=2.32.2->datasets) (2.2.2)\n",
            "Requirement already satisfied: certifi>=2017.4.17 in /opt/homebrew/Caskroom/miniconda/base/lib/python3.12/site-packages (from requests>=2.32.2->datasets) (2024.7.4)\n",
            "Requirement already satisfied: soupsieve>1.2 in /opt/homebrew/Caskroom/miniconda/base/lib/python3.12/site-packages (from beautifulsoup4->gdown) (2.6)\n",
            "Requirement already satisfied: MarkupSafe>=2.0 in /opt/homebrew/Caskroom/miniconda/base/lib/python3.12/site-packages (from jinja2->torch) (2.1.5)\n",
            "Requirement already satisfied: PySocks!=1.5.7,>=1.5.6 in /opt/homebrew/Caskroom/miniconda/base/lib/python3.12/site-packages (from requests[socks]->gdown) (1.7.1)\n",
            "Requirement already satisfied: mpmath<1.4,>=1.1.0 in /opt/homebrew/Caskroom/miniconda/base/lib/python3.12/site-packages (from sympy->torch) (1.3.0)\n",
            "Note: you may need to restart the kernel to use updated packages.\n",
            "Requirement already satisfied: jupyter in /opt/homebrew/Caskroom/miniconda/base/lib/python3.12/site-packages (1.1.1)\n",
            "Requirement already satisfied: ipywidgets in /opt/homebrew/Caskroom/miniconda/base/lib/python3.12/site-packages (8.1.5)\n",
            "Requirement already satisfied: tqdm in /opt/homebrew/Caskroom/miniconda/base/lib/python3.12/site-packages (4.66.5)\n",
            "Requirement already satisfied: notebook in /opt/homebrew/Caskroom/miniconda/base/lib/python3.12/site-packages (from jupyter) (7.2.2)\n",
            "Requirement already satisfied: jupyter-console in /opt/homebrew/Caskroom/miniconda/base/lib/python3.12/site-packages (from jupyter) (6.6.3)\n",
            "Requirement already satisfied: nbconvert in /opt/homebrew/Caskroom/miniconda/base/lib/python3.12/site-packages (from jupyter) (7.16.4)\n",
            "Requirement already satisfied: ipykernel in /opt/homebrew/Caskroom/miniconda/base/lib/python3.12/site-packages (from jupyter) (6.29.5)\n",
            "Requirement already satisfied: jupyterlab in /opt/homebrew/Caskroom/miniconda/base/lib/python3.12/site-packages (from jupyter) (4.2.5)\n",
            "Requirement already satisfied: comm>=0.1.3 in /opt/homebrew/Caskroom/miniconda/base/lib/python3.12/site-packages (from ipywidgets) (0.2.2)\n",
            "Requirement already satisfied: ipython>=6.1.0 in /opt/homebrew/Caskroom/miniconda/base/lib/python3.12/site-packages (from ipywidgets) (8.27.0)\n",
            "Requirement already satisfied: traitlets>=4.3.1 in /opt/homebrew/Caskroom/miniconda/base/lib/python3.12/site-packages (from ipywidgets) (5.14.3)\n",
            "Requirement already satisfied: widgetsnbextension~=4.0.12 in /opt/homebrew/Caskroom/miniconda/base/lib/python3.12/site-packages (from ipywidgets) (4.0.13)\n",
            "Requirement already satisfied: jupyterlab-widgets~=3.0.12 in /opt/homebrew/Caskroom/miniconda/base/lib/python3.12/site-packages (from ipywidgets) (3.0.13)\n",
            "Requirement already satisfied: decorator in /opt/homebrew/Caskroom/miniconda/base/lib/python3.12/site-packages (from ipython>=6.1.0->ipywidgets) (5.1.1)\n",
            "Requirement already satisfied: jedi>=0.16 in /opt/homebrew/Caskroom/miniconda/base/lib/python3.12/site-packages (from ipython>=6.1.0->ipywidgets) (0.19.1)\n",
            "Requirement already satisfied: matplotlib-inline in /opt/homebrew/Caskroom/miniconda/base/lib/python3.12/site-packages (from ipython>=6.1.0->ipywidgets) (0.1.7)\n",
            "Requirement already satisfied: prompt-toolkit<3.1.0,>=3.0.41 in /opt/homebrew/Caskroom/miniconda/base/lib/python3.12/site-packages (from ipython>=6.1.0->ipywidgets) (3.0.48)\n",
            "Requirement already satisfied: pygments>=2.4.0 in /opt/homebrew/Caskroom/miniconda/base/lib/python3.12/site-packages (from ipython>=6.1.0->ipywidgets) (2.18.0)\n",
            "Requirement already satisfied: stack-data in /opt/homebrew/Caskroom/miniconda/base/lib/python3.12/site-packages (from ipython>=6.1.0->ipywidgets) (0.6.3)\n",
            "Requirement already satisfied: pexpect>4.3 in /opt/homebrew/Caskroom/miniconda/base/lib/python3.12/site-packages (from ipython>=6.1.0->ipywidgets) (4.9.0)\n",
            "Requirement already satisfied: appnope in /opt/homebrew/Caskroom/miniconda/base/lib/python3.12/site-packages (from ipykernel->jupyter) (0.1.4)\n",
            "Requirement already satisfied: debugpy>=1.6.5 in /opt/homebrew/Caskroom/miniconda/base/lib/python3.12/site-packages (from ipykernel->jupyter) (1.8.6)\n",
            "Requirement already satisfied: jupyter-client>=6.1.12 in /opt/homebrew/Caskroom/miniconda/base/lib/python3.12/site-packages (from ipykernel->jupyter) (8.6.3)\n",
            "Requirement already satisfied: jupyter-core!=5.0.*,>=4.12 in /opt/homebrew/Caskroom/miniconda/base/lib/python3.12/site-packages (from ipykernel->jupyter) (5.7.2)\n",
            "Requirement already satisfied: nest-asyncio in /opt/homebrew/Caskroom/miniconda/base/lib/python3.12/site-packages (from ipykernel->jupyter) (1.6.0)\n",
            "Requirement already satisfied: packaging in /opt/homebrew/Caskroom/miniconda/base/lib/python3.12/site-packages (from ipykernel->jupyter) (24.1)\n",
            "Requirement already satisfied: psutil in /opt/homebrew/Caskroom/miniconda/base/lib/python3.12/site-packages (from ipykernel->jupyter) (6.0.0)\n",
            "Requirement already satisfied: pyzmq>=24 in /opt/homebrew/Caskroom/miniconda/base/lib/python3.12/site-packages (from ipykernel->jupyter) (26.2.0)\n",
            "Requirement already satisfied: tornado>=6.1 in /opt/homebrew/Caskroom/miniconda/base/lib/python3.12/site-packages (from ipykernel->jupyter) (6.4.1)\n",
            "Requirement already satisfied: async-lru>=1.0.0 in /opt/homebrew/Caskroom/miniconda/base/lib/python3.12/site-packages (from jupyterlab->jupyter) (2.0.4)\n",
            "Requirement already satisfied: httpx>=0.25.0 in /opt/homebrew/Caskroom/miniconda/base/lib/python3.12/site-packages (from jupyterlab->jupyter) (0.27.2)\n",
            "Requirement already satisfied: jinja2>=3.0.3 in /opt/homebrew/Caskroom/miniconda/base/lib/python3.12/site-packages (from jupyterlab->jupyter) (3.1.4)\n",
            "Requirement already satisfied: jupyter-lsp>=2.0.0 in /opt/homebrew/Caskroom/miniconda/base/lib/python3.12/site-packages (from jupyterlab->jupyter) (2.2.5)\n",
            "Requirement already satisfied: jupyter-server<3,>=2.4.0 in /opt/homebrew/Caskroom/miniconda/base/lib/python3.12/site-packages (from jupyterlab->jupyter) (2.14.2)\n",
            "Requirement already satisfied: jupyterlab-server<3,>=2.27.1 in /opt/homebrew/Caskroom/miniconda/base/lib/python3.12/site-packages (from jupyterlab->jupyter) (2.27.3)\n",
            "Requirement already satisfied: notebook-shim>=0.2 in /opt/homebrew/Caskroom/miniconda/base/lib/python3.12/site-packages (from jupyterlab->jupyter) (0.2.4)\n",
            "Requirement already satisfied: setuptools>=40.1.0 in /opt/homebrew/Caskroom/miniconda/base/lib/python3.12/site-packages (from jupyterlab->jupyter) (72.1.0)\n",
            "Requirement already satisfied: beautifulsoup4 in /opt/homebrew/Caskroom/miniconda/base/lib/python3.12/site-packages (from nbconvert->jupyter) (4.12.3)\n",
            "Requirement already satisfied: bleach!=5.0.0 in /opt/homebrew/Caskroom/miniconda/base/lib/python3.12/site-packages (from nbconvert->jupyter) (6.1.0)\n",
            "Requirement already satisfied: defusedxml in /opt/homebrew/Caskroom/miniconda/base/lib/python3.12/site-packages (from nbconvert->jupyter) (0.7.1)\n",
            "Requirement already satisfied: jupyterlab-pygments in /opt/homebrew/Caskroom/miniconda/base/lib/python3.12/site-packages (from nbconvert->jupyter) (0.3.0)\n",
            "Requirement already satisfied: markupsafe>=2.0 in /opt/homebrew/Caskroom/miniconda/base/lib/python3.12/site-packages (from nbconvert->jupyter) (2.1.5)\n",
            "Requirement already satisfied: mistune<4,>=2.0.3 in /opt/homebrew/Caskroom/miniconda/base/lib/python3.12/site-packages (from nbconvert->jupyter) (3.0.2)\n",
            "Requirement already satisfied: nbclient>=0.5.0 in /opt/homebrew/Caskroom/miniconda/base/lib/python3.12/site-packages (from nbconvert->jupyter) (0.10.0)\n",
            "Requirement already satisfied: nbformat>=5.7 in /opt/homebrew/Caskroom/miniconda/base/lib/python3.12/site-packages (from nbconvert->jupyter) (5.10.4)\n",
            "Requirement already satisfied: pandocfilters>=1.4.1 in /opt/homebrew/Caskroom/miniconda/base/lib/python3.12/site-packages (from nbconvert->jupyter) (1.5.1)\n",
            "Requirement already satisfied: tinycss2 in /opt/homebrew/Caskroom/miniconda/base/lib/python3.12/site-packages (from nbconvert->jupyter) (1.3.0)\n",
            "Requirement already satisfied: six>=1.9.0 in /opt/homebrew/Caskroom/miniconda/base/lib/python3.12/site-packages (from bleach!=5.0.0->nbconvert->jupyter) (1.16.0)\n",
            "Requirement already satisfied: webencodings in /opt/homebrew/Caskroom/miniconda/base/lib/python3.12/site-packages (from bleach!=5.0.0->nbconvert->jupyter) (0.5.1)\n",
            "Requirement already satisfied: anyio in /opt/homebrew/Caskroom/miniconda/base/lib/python3.12/site-packages (from httpx>=0.25.0->jupyterlab->jupyter) (4.6.0)\n",
            "Requirement already satisfied: certifi in /opt/homebrew/Caskroom/miniconda/base/lib/python3.12/site-packages (from httpx>=0.25.0->jupyterlab->jupyter) (2024.7.4)\n",
            "Requirement already satisfied: httpcore==1.* in /opt/homebrew/Caskroom/miniconda/base/lib/python3.12/site-packages (from httpx>=0.25.0->jupyterlab->jupyter) (1.0.5)\n",
            "Requirement already satisfied: idna in /opt/homebrew/Caskroom/miniconda/base/lib/python3.12/site-packages (from httpx>=0.25.0->jupyterlab->jupyter) (3.7)\n",
            "Requirement already satisfied: sniffio in /opt/homebrew/Caskroom/miniconda/base/lib/python3.12/site-packages (from httpx>=0.25.0->jupyterlab->jupyter) (1.3.1)\n",
            "Requirement already satisfied: h11<0.15,>=0.13 in /opt/homebrew/Caskroom/miniconda/base/lib/python3.12/site-packages (from httpcore==1.*->httpx>=0.25.0->jupyterlab->jupyter) (0.14.0)\n",
            "Requirement already satisfied: parso<0.9.0,>=0.8.3 in /opt/homebrew/Caskroom/miniconda/base/lib/python3.12/site-packages (from jedi>=0.16->ipython>=6.1.0->ipywidgets) (0.8.4)\n",
            "Requirement already satisfied: python-dateutil>=2.8.2 in /opt/homebrew/Caskroom/miniconda/base/lib/python3.12/site-packages (from jupyter-client>=6.1.12->ipykernel->jupyter) (2.9.0.post0)\n",
            "Requirement already satisfied: platformdirs>=2.5 in /opt/homebrew/Caskroom/miniconda/base/lib/python3.12/site-packages (from jupyter-core!=5.0.*,>=4.12->ipykernel->jupyter) (3.10.0)\n",
            "Requirement already satisfied: argon2-cffi>=21.1 in /opt/homebrew/Caskroom/miniconda/base/lib/python3.12/site-packages (from jupyter-server<3,>=2.4.0->jupyterlab->jupyter) (23.1.0)\n",
            "Requirement already satisfied: jupyter-events>=0.9.0 in /opt/homebrew/Caskroom/miniconda/base/lib/python3.12/site-packages (from jupyter-server<3,>=2.4.0->jupyterlab->jupyter) (0.10.0)\n",
            "Requirement already satisfied: jupyter-server-terminals>=0.4.4 in /opt/homebrew/Caskroom/miniconda/base/lib/python3.12/site-packages (from jupyter-server<3,>=2.4.0->jupyterlab->jupyter) (0.5.3)\n",
            "Requirement already satisfied: overrides>=5.0 in /opt/homebrew/Caskroom/miniconda/base/lib/python3.12/site-packages (from jupyter-server<3,>=2.4.0->jupyterlab->jupyter) (7.7.0)\n",
            "Requirement already satisfied: prometheus-client>=0.9 in /opt/homebrew/Caskroom/miniconda/base/lib/python3.12/site-packages (from jupyter-server<3,>=2.4.0->jupyterlab->jupyter) (0.21.0)\n",
            "Requirement already satisfied: send2trash>=1.8.2 in /opt/homebrew/Caskroom/miniconda/base/lib/python3.12/site-packages (from jupyter-server<3,>=2.4.0->jupyterlab->jupyter) (1.8.3)\n",
            "Requirement already satisfied: terminado>=0.8.3 in /opt/homebrew/Caskroom/miniconda/base/lib/python3.12/site-packages (from jupyter-server<3,>=2.4.0->jupyterlab->jupyter) (0.18.1)\n",
            "Requirement already satisfied: websocket-client>=1.7 in /opt/homebrew/Caskroom/miniconda/base/lib/python3.12/site-packages (from jupyter-server<3,>=2.4.0->jupyterlab->jupyter) (1.8.0)\n",
            "Requirement already satisfied: babel>=2.10 in /opt/homebrew/Caskroom/miniconda/base/lib/python3.12/site-packages (from jupyterlab-server<3,>=2.27.1->jupyterlab->jupyter) (2.16.0)\n",
            "Requirement already satisfied: json5>=0.9.0 in /opt/homebrew/Caskroom/miniconda/base/lib/python3.12/site-packages (from jupyterlab-server<3,>=2.27.1->jupyterlab->jupyter) (0.9.25)\n",
            "Requirement already satisfied: jsonschema>=4.18.0 in /opt/homebrew/Caskroom/miniconda/base/lib/python3.12/site-packages (from jupyterlab-server<3,>=2.27.1->jupyterlab->jupyter) (4.23.0)\n",
            "Requirement already satisfied: requests>=2.31 in /opt/homebrew/Caskroom/miniconda/base/lib/python3.12/site-packages (from jupyterlab-server<3,>=2.27.1->jupyterlab->jupyter) (2.32.3)\n",
            "Requirement already satisfied: fastjsonschema>=2.15 in /opt/homebrew/Caskroom/miniconda/base/lib/python3.12/site-packages (from nbformat>=5.7->nbconvert->jupyter) (2.20.0)\n",
            "Requirement already satisfied: ptyprocess>=0.5 in /opt/homebrew/Caskroom/miniconda/base/lib/python3.12/site-packages (from pexpect>4.3->ipython>=6.1.0->ipywidgets) (0.7.0)\n",
            "Requirement already satisfied: wcwidth in /opt/homebrew/Caskroom/miniconda/base/lib/python3.12/site-packages (from prompt-toolkit<3.1.0,>=3.0.41->ipython>=6.1.0->ipywidgets) (0.2.13)\n",
            "Requirement already satisfied: soupsieve>1.2 in /opt/homebrew/Caskroom/miniconda/base/lib/python3.12/site-packages (from beautifulsoup4->nbconvert->jupyter) (2.6)\n",
            "Requirement already satisfied: executing>=1.2.0 in /opt/homebrew/Caskroom/miniconda/base/lib/python3.12/site-packages (from stack-data->ipython>=6.1.0->ipywidgets) (2.1.0)\n",
            "Requirement already satisfied: asttokens>=2.1.0 in /opt/homebrew/Caskroom/miniconda/base/lib/python3.12/site-packages (from stack-data->ipython>=6.1.0->ipywidgets) (2.4.1)\n",
            "Requirement already satisfied: pure-eval in /opt/homebrew/Caskroom/miniconda/base/lib/python3.12/site-packages (from stack-data->ipython>=6.1.0->ipywidgets) (0.2.3)\n",
            "Requirement already satisfied: argon2-cffi-bindings in /opt/homebrew/Caskroom/miniconda/base/lib/python3.12/site-packages (from argon2-cffi>=21.1->jupyter-server<3,>=2.4.0->jupyterlab->jupyter) (21.2.0)\n",
            "Requirement already satisfied: attrs>=22.2.0 in /opt/homebrew/Caskroom/miniconda/base/lib/python3.12/site-packages (from jsonschema>=4.18.0->jupyterlab-server<3,>=2.27.1->jupyterlab->jupyter) (24.2.0)\n",
            "Requirement already satisfied: jsonschema-specifications>=2023.03.6 in /opt/homebrew/Caskroom/miniconda/base/lib/python3.12/site-packages (from jsonschema>=4.18.0->jupyterlab-server<3,>=2.27.1->jupyterlab->jupyter) (2023.12.1)\n",
            "Requirement already satisfied: referencing>=0.28.4 in /opt/homebrew/Caskroom/miniconda/base/lib/python3.12/site-packages (from jsonschema>=4.18.0->jupyterlab-server<3,>=2.27.1->jupyterlab->jupyter) (0.35.1)\n",
            "Requirement already satisfied: rpds-py>=0.7.1 in /opt/homebrew/Caskroom/miniconda/base/lib/python3.12/site-packages (from jsonschema>=4.18.0->jupyterlab-server<3,>=2.27.1->jupyterlab->jupyter) (0.20.0)\n",
            "Requirement already satisfied: python-json-logger>=2.0.4 in /opt/homebrew/Caskroom/miniconda/base/lib/python3.12/site-packages (from jupyter-events>=0.9.0->jupyter-server<3,>=2.4.0->jupyterlab->jupyter) (2.0.7)\n",
            "Requirement already satisfied: pyyaml>=5.3 in /opt/homebrew/Caskroom/miniconda/base/lib/python3.12/site-packages (from jupyter-events>=0.9.0->jupyter-server<3,>=2.4.0->jupyterlab->jupyter) (6.0.2)\n",
            "Requirement already satisfied: rfc3339-validator in /opt/homebrew/Caskroom/miniconda/base/lib/python3.12/site-packages (from jupyter-events>=0.9.0->jupyter-server<3,>=2.4.0->jupyterlab->jupyter) (0.1.4)\n",
            "Requirement already satisfied: rfc3986-validator>=0.1.1 in /opt/homebrew/Caskroom/miniconda/base/lib/python3.12/site-packages (from jupyter-events>=0.9.0->jupyter-server<3,>=2.4.0->jupyterlab->jupyter) (0.1.1)\n",
            "Requirement already satisfied: charset-normalizer<4,>=2 in /opt/homebrew/Caskroom/miniconda/base/lib/python3.12/site-packages (from requests>=2.31->jupyterlab-server<3,>=2.27.1->jupyterlab->jupyter) (3.3.2)\n",
            "Requirement already satisfied: urllib3<3,>=1.21.1 in /opt/homebrew/Caskroom/miniconda/base/lib/python3.12/site-packages (from requests>=2.31->jupyterlab-server<3,>=2.27.1->jupyterlab->jupyter) (2.2.2)\n",
            "Requirement already satisfied: fqdn in /opt/homebrew/Caskroom/miniconda/base/lib/python3.12/site-packages (from jsonschema[format-nongpl]>=4.18.0->jupyter-events>=0.9.0->jupyter-server<3,>=2.4.0->jupyterlab->jupyter) (1.5.1)\n",
            "Requirement already satisfied: isoduration in /opt/homebrew/Caskroom/miniconda/base/lib/python3.12/site-packages (from jsonschema[format-nongpl]>=4.18.0->jupyter-events>=0.9.0->jupyter-server<3,>=2.4.0->jupyterlab->jupyter) (20.11.0)\n",
            "Requirement already satisfied: jsonpointer>1.13 in /opt/homebrew/Caskroom/miniconda/base/lib/python3.12/site-packages (from jsonschema[format-nongpl]>=4.18.0->jupyter-events>=0.9.0->jupyter-server<3,>=2.4.0->jupyterlab->jupyter) (2.1)\n",
            "Requirement already satisfied: uri-template in /opt/homebrew/Caskroom/miniconda/base/lib/python3.12/site-packages (from jsonschema[format-nongpl]>=4.18.0->jupyter-events>=0.9.0->jupyter-server<3,>=2.4.0->jupyterlab->jupyter) (1.3.0)\n",
            "Requirement already satisfied: webcolors>=24.6.0 in /opt/homebrew/Caskroom/miniconda/base/lib/python3.12/site-packages (from jsonschema[format-nongpl]>=4.18.0->jupyter-events>=0.9.0->jupyter-server<3,>=2.4.0->jupyterlab->jupyter) (24.8.0)\n",
            "Requirement already satisfied: cffi>=1.0.1 in /opt/homebrew/Caskroom/miniconda/base/lib/python3.12/site-packages (from argon2-cffi-bindings->argon2-cffi>=21.1->jupyter-server<3,>=2.4.0->jupyterlab->jupyter) (1.16.0)\n",
            "Requirement already satisfied: pycparser in /opt/homebrew/Caskroom/miniconda/base/lib/python3.12/site-packages (from cffi>=1.0.1->argon2-cffi-bindings->argon2-cffi>=21.1->jupyter-server<3,>=2.4.0->jupyterlab->jupyter) (2.21)\n",
            "Requirement already satisfied: arrow>=0.15.0 in /opt/homebrew/Caskroom/miniconda/base/lib/python3.12/site-packages (from isoduration->jsonschema[format-nongpl]>=4.18.0->jupyter-events>=0.9.0->jupyter-server<3,>=2.4.0->jupyterlab->jupyter) (1.3.0)\n",
            "Requirement already satisfied: types-python-dateutil>=2.8.10 in /opt/homebrew/Caskroom/miniconda/base/lib/python3.12/site-packages (from arrow>=0.15.0->isoduration->jsonschema[format-nongpl]>=4.18.0->jupyter-events>=0.9.0->jupyter-server<3,>=2.4.0->jupyterlab->jupyter) (2.9.0.20240906)\n",
            "Note: you may need to restart the kernel to use updated packages.\n"
          ]
        }
      ],
      "source": [
        "# Instalar as bibliotecas necessárias\n",
        "%pip install datasets transformers torch pandas 'transformers[torch]' gdown\n",
        "%pip install --upgrade jupyter ipywidgets tqdm"
      ]
    },
    {
      "cell_type": "code",
      "execution_count": 8,
      "metadata": {},
      "outputs": [
        {
          "name": "stdout",
          "output_type": "stream",
          "text": [
            "Requirement already satisfied: jupyter in /opt/homebrew/Caskroom/miniconda/base/lib/python3.12/site-packages (1.1.1)\n",
            "Requirement already satisfied: notebook in /opt/homebrew/Caskroom/miniconda/base/lib/python3.12/site-packages (from jupyter) (7.2.2)\n",
            "Requirement already satisfied: jupyter-console in /opt/homebrew/Caskroom/miniconda/base/lib/python3.12/site-packages (from jupyter) (6.6.3)\n",
            "Requirement already satisfied: nbconvert in /opt/homebrew/Caskroom/miniconda/base/lib/python3.12/site-packages (from jupyter) (7.16.4)\n",
            "Requirement already satisfied: ipykernel in /opt/homebrew/Caskroom/miniconda/base/lib/python3.12/site-packages (from jupyter) (6.29.5)\n",
            "Requirement already satisfied: ipywidgets in /opt/homebrew/Caskroom/miniconda/base/lib/python3.12/site-packages (from jupyter) (8.1.5)\n",
            "Requirement already satisfied: jupyterlab in /opt/homebrew/Caskroom/miniconda/base/lib/python3.12/site-packages (from jupyter) (4.2.5)\n",
            "Requirement already satisfied: appnope in /opt/homebrew/Caskroom/miniconda/base/lib/python3.12/site-packages (from ipykernel->jupyter) (0.1.4)\n",
            "Requirement already satisfied: comm>=0.1.1 in /opt/homebrew/Caskroom/miniconda/base/lib/python3.12/site-packages (from ipykernel->jupyter) (0.2.2)\n",
            "Requirement already satisfied: debugpy>=1.6.5 in /opt/homebrew/Caskroom/miniconda/base/lib/python3.12/site-packages (from ipykernel->jupyter) (1.8.6)\n",
            "Requirement already satisfied: ipython>=7.23.1 in /opt/homebrew/Caskroom/miniconda/base/lib/python3.12/site-packages (from ipykernel->jupyter) (8.27.0)\n",
            "Requirement already satisfied: jupyter-client>=6.1.12 in /opt/homebrew/Caskroom/miniconda/base/lib/python3.12/site-packages (from ipykernel->jupyter) (8.6.3)\n",
            "Requirement already satisfied: jupyter-core!=5.0.*,>=4.12 in /opt/homebrew/Caskroom/miniconda/base/lib/python3.12/site-packages (from ipykernel->jupyter) (5.7.2)\n",
            "Requirement already satisfied: matplotlib-inline>=0.1 in /opt/homebrew/Caskroom/miniconda/base/lib/python3.12/site-packages (from ipykernel->jupyter) (0.1.7)\n",
            "Requirement already satisfied: nest-asyncio in /opt/homebrew/Caskroom/miniconda/base/lib/python3.12/site-packages (from ipykernel->jupyter) (1.6.0)\n",
            "Requirement already satisfied: packaging in /opt/homebrew/Caskroom/miniconda/base/lib/python3.12/site-packages (from ipykernel->jupyter) (24.1)\n",
            "Requirement already satisfied: psutil in /opt/homebrew/Caskroom/miniconda/base/lib/python3.12/site-packages (from ipykernel->jupyter) (6.0.0)\n",
            "Requirement already satisfied: pyzmq>=24 in /opt/homebrew/Caskroom/miniconda/base/lib/python3.12/site-packages (from ipykernel->jupyter) (26.2.0)\n",
            "Requirement already satisfied: tornado>=6.1 in /opt/homebrew/Caskroom/miniconda/base/lib/python3.12/site-packages (from ipykernel->jupyter) (6.4.1)\n",
            "Requirement already satisfied: traitlets>=5.4.0 in /opt/homebrew/Caskroom/miniconda/base/lib/python3.12/site-packages (from ipykernel->jupyter) (5.14.3)\n",
            "Requirement already satisfied: widgetsnbextension~=4.0.12 in /opt/homebrew/Caskroom/miniconda/base/lib/python3.12/site-packages (from ipywidgets->jupyter) (4.0.13)\n",
            "Requirement already satisfied: jupyterlab-widgets~=3.0.12 in /opt/homebrew/Caskroom/miniconda/base/lib/python3.12/site-packages (from ipywidgets->jupyter) (3.0.13)\n",
            "Requirement already satisfied: prompt-toolkit>=3.0.30 in /opt/homebrew/Caskroom/miniconda/base/lib/python3.12/site-packages (from jupyter-console->jupyter) (3.0.48)\n",
            "Requirement already satisfied: pygments in /opt/homebrew/Caskroom/miniconda/base/lib/python3.12/site-packages (from jupyter-console->jupyter) (2.18.0)\n",
            "Requirement already satisfied: async-lru>=1.0.0 in /opt/homebrew/Caskroom/miniconda/base/lib/python3.12/site-packages (from jupyterlab->jupyter) (2.0.4)\n",
            "Requirement already satisfied: httpx>=0.25.0 in /opt/homebrew/Caskroom/miniconda/base/lib/python3.12/site-packages (from jupyterlab->jupyter) (0.27.2)\n",
            "Requirement already satisfied: jinja2>=3.0.3 in /opt/homebrew/Caskroom/miniconda/base/lib/python3.12/site-packages (from jupyterlab->jupyter) (3.1.4)\n",
            "Requirement already satisfied: jupyter-lsp>=2.0.0 in /opt/homebrew/Caskroom/miniconda/base/lib/python3.12/site-packages (from jupyterlab->jupyter) (2.2.5)\n",
            "Requirement already satisfied: jupyter-server<3,>=2.4.0 in /opt/homebrew/Caskroom/miniconda/base/lib/python3.12/site-packages (from jupyterlab->jupyter) (2.14.2)\n",
            "Requirement already satisfied: jupyterlab-server<3,>=2.27.1 in /opt/homebrew/Caskroom/miniconda/base/lib/python3.12/site-packages (from jupyterlab->jupyter) (2.27.3)\n",
            "Requirement already satisfied: notebook-shim>=0.2 in /opt/homebrew/Caskroom/miniconda/base/lib/python3.12/site-packages (from jupyterlab->jupyter) (0.2.4)\n",
            "Requirement already satisfied: setuptools>=40.1.0 in /opt/homebrew/Caskroom/miniconda/base/lib/python3.12/site-packages (from jupyterlab->jupyter) (72.1.0)\n",
            "Requirement already satisfied: beautifulsoup4 in /opt/homebrew/Caskroom/miniconda/base/lib/python3.12/site-packages (from nbconvert->jupyter) (4.12.3)\n",
            "Requirement already satisfied: bleach!=5.0.0 in /opt/homebrew/Caskroom/miniconda/base/lib/python3.12/site-packages (from nbconvert->jupyter) (6.1.0)\n",
            "Requirement already satisfied: defusedxml in /opt/homebrew/Caskroom/miniconda/base/lib/python3.12/site-packages (from nbconvert->jupyter) (0.7.1)\n",
            "Requirement already satisfied: jupyterlab-pygments in /opt/homebrew/Caskroom/miniconda/base/lib/python3.12/site-packages (from nbconvert->jupyter) (0.3.0)\n",
            "Requirement already satisfied: markupsafe>=2.0 in /opt/homebrew/Caskroom/miniconda/base/lib/python3.12/site-packages (from nbconvert->jupyter) (2.1.5)\n",
            "Requirement already satisfied: mistune<4,>=2.0.3 in /opt/homebrew/Caskroom/miniconda/base/lib/python3.12/site-packages (from nbconvert->jupyter) (3.0.2)\n",
            "Requirement already satisfied: nbclient>=0.5.0 in /opt/homebrew/Caskroom/miniconda/base/lib/python3.12/site-packages (from nbconvert->jupyter) (0.10.0)\n",
            "Requirement already satisfied: nbformat>=5.7 in /opt/homebrew/Caskroom/miniconda/base/lib/python3.12/site-packages (from nbconvert->jupyter) (5.10.4)\n",
            "Requirement already satisfied: pandocfilters>=1.4.1 in /opt/homebrew/Caskroom/miniconda/base/lib/python3.12/site-packages (from nbconvert->jupyter) (1.5.1)\n",
            "Requirement already satisfied: tinycss2 in /opt/homebrew/Caskroom/miniconda/base/lib/python3.12/site-packages (from nbconvert->jupyter) (1.3.0)\n",
            "Requirement already satisfied: six>=1.9.0 in /opt/homebrew/Caskroom/miniconda/base/lib/python3.12/site-packages (from bleach!=5.0.0->nbconvert->jupyter) (1.16.0)\n",
            "Requirement already satisfied: webencodings in /opt/homebrew/Caskroom/miniconda/base/lib/python3.12/site-packages (from bleach!=5.0.0->nbconvert->jupyter) (0.5.1)\n",
            "Requirement already satisfied: anyio in /opt/homebrew/Caskroom/miniconda/base/lib/python3.12/site-packages (from httpx>=0.25.0->jupyterlab->jupyter) (4.6.0)\n",
            "Requirement already satisfied: certifi in /opt/homebrew/Caskroom/miniconda/base/lib/python3.12/site-packages (from httpx>=0.25.0->jupyterlab->jupyter) (2024.7.4)\n",
            "Requirement already satisfied: httpcore==1.* in /opt/homebrew/Caskroom/miniconda/base/lib/python3.12/site-packages (from httpx>=0.25.0->jupyterlab->jupyter) (1.0.5)\n",
            "Requirement already satisfied: idna in /opt/homebrew/Caskroom/miniconda/base/lib/python3.12/site-packages (from httpx>=0.25.0->jupyterlab->jupyter) (3.7)\n",
            "Requirement already satisfied: sniffio in /opt/homebrew/Caskroom/miniconda/base/lib/python3.12/site-packages (from httpx>=0.25.0->jupyterlab->jupyter) (1.3.1)\n",
            "Requirement already satisfied: h11<0.15,>=0.13 in /opt/homebrew/Caskroom/miniconda/base/lib/python3.12/site-packages (from httpcore==1.*->httpx>=0.25.0->jupyterlab->jupyter) (0.14.0)\n",
            "Requirement already satisfied: decorator in /opt/homebrew/Caskroom/miniconda/base/lib/python3.12/site-packages (from ipython>=7.23.1->ipykernel->jupyter) (5.1.1)\n",
            "Requirement already satisfied: jedi>=0.16 in /opt/homebrew/Caskroom/miniconda/base/lib/python3.12/site-packages (from ipython>=7.23.1->ipykernel->jupyter) (0.19.1)\n",
            "Requirement already satisfied: stack-data in /opt/homebrew/Caskroom/miniconda/base/lib/python3.12/site-packages (from ipython>=7.23.1->ipykernel->jupyter) (0.6.3)\n",
            "Requirement already satisfied: pexpect>4.3 in /opt/homebrew/Caskroom/miniconda/base/lib/python3.12/site-packages (from ipython>=7.23.1->ipykernel->jupyter) (4.9.0)\n",
            "Requirement already satisfied: python-dateutil>=2.8.2 in /opt/homebrew/Caskroom/miniconda/base/lib/python3.12/site-packages (from jupyter-client>=6.1.12->ipykernel->jupyter) (2.9.0.post0)\n",
            "Requirement already satisfied: platformdirs>=2.5 in /opt/homebrew/Caskroom/miniconda/base/lib/python3.12/site-packages (from jupyter-core!=5.0.*,>=4.12->ipykernel->jupyter) (3.10.0)\n",
            "Requirement already satisfied: argon2-cffi>=21.1 in /opt/homebrew/Caskroom/miniconda/base/lib/python3.12/site-packages (from jupyter-server<3,>=2.4.0->jupyterlab->jupyter) (23.1.0)\n",
            "Requirement already satisfied: jupyter-events>=0.9.0 in /opt/homebrew/Caskroom/miniconda/base/lib/python3.12/site-packages (from jupyter-server<3,>=2.4.0->jupyterlab->jupyter) (0.10.0)\n",
            "Requirement already satisfied: jupyter-server-terminals>=0.4.4 in /opt/homebrew/Caskroom/miniconda/base/lib/python3.12/site-packages (from jupyter-server<3,>=2.4.0->jupyterlab->jupyter) (0.5.3)\n",
            "Requirement already satisfied: overrides>=5.0 in /opt/homebrew/Caskroom/miniconda/base/lib/python3.12/site-packages (from jupyter-server<3,>=2.4.0->jupyterlab->jupyter) (7.7.0)\n",
            "Requirement already satisfied: prometheus-client>=0.9 in /opt/homebrew/Caskroom/miniconda/base/lib/python3.12/site-packages (from jupyter-server<3,>=2.4.0->jupyterlab->jupyter) (0.21.0)\n",
            "Requirement already satisfied: send2trash>=1.8.2 in /opt/homebrew/Caskroom/miniconda/base/lib/python3.12/site-packages (from jupyter-server<3,>=2.4.0->jupyterlab->jupyter) (1.8.3)\n",
            "Requirement already satisfied: terminado>=0.8.3 in /opt/homebrew/Caskroom/miniconda/base/lib/python3.12/site-packages (from jupyter-server<3,>=2.4.0->jupyterlab->jupyter) (0.18.1)\n",
            "Requirement already satisfied: websocket-client>=1.7 in /opt/homebrew/Caskroom/miniconda/base/lib/python3.12/site-packages (from jupyter-server<3,>=2.4.0->jupyterlab->jupyter) (1.8.0)\n",
            "Requirement already satisfied: babel>=2.10 in /opt/homebrew/Caskroom/miniconda/base/lib/python3.12/site-packages (from jupyterlab-server<3,>=2.27.1->jupyterlab->jupyter) (2.16.0)\n",
            "Requirement already satisfied: json5>=0.9.0 in /opt/homebrew/Caskroom/miniconda/base/lib/python3.12/site-packages (from jupyterlab-server<3,>=2.27.1->jupyterlab->jupyter) (0.9.25)\n",
            "Requirement already satisfied: jsonschema>=4.18.0 in /opt/homebrew/Caskroom/miniconda/base/lib/python3.12/site-packages (from jupyterlab-server<3,>=2.27.1->jupyterlab->jupyter) (4.23.0)\n",
            "Requirement already satisfied: requests>=2.31 in /opt/homebrew/Caskroom/miniconda/base/lib/python3.12/site-packages (from jupyterlab-server<3,>=2.27.1->jupyterlab->jupyter) (2.32.3)\n",
            "Requirement already satisfied: fastjsonschema>=2.15 in /opt/homebrew/Caskroom/miniconda/base/lib/python3.12/site-packages (from nbformat>=5.7->nbconvert->jupyter) (2.20.0)\n",
            "Requirement already satisfied: wcwidth in /opt/homebrew/Caskroom/miniconda/base/lib/python3.12/site-packages (from prompt-toolkit>=3.0.30->jupyter-console->jupyter) (0.2.13)\n",
            "Requirement already satisfied: soupsieve>1.2 in /opt/homebrew/Caskroom/miniconda/base/lib/python3.12/site-packages (from beautifulsoup4->nbconvert->jupyter) (2.6)\n",
            "Requirement already satisfied: argon2-cffi-bindings in /opt/homebrew/Caskroom/miniconda/base/lib/python3.12/site-packages (from argon2-cffi>=21.1->jupyter-server<3,>=2.4.0->jupyterlab->jupyter) (21.2.0)\n",
            "Requirement already satisfied: parso<0.9.0,>=0.8.3 in /opt/homebrew/Caskroom/miniconda/base/lib/python3.12/site-packages (from jedi>=0.16->ipython>=7.23.1->ipykernel->jupyter) (0.8.4)\n",
            "Requirement already satisfied: attrs>=22.2.0 in /opt/homebrew/Caskroom/miniconda/base/lib/python3.12/site-packages (from jsonschema>=4.18.0->jupyterlab-server<3,>=2.27.1->jupyterlab->jupyter) (24.2.0)\n",
            "Requirement already satisfied: jsonschema-specifications>=2023.03.6 in /opt/homebrew/Caskroom/miniconda/base/lib/python3.12/site-packages (from jsonschema>=4.18.0->jupyterlab-server<3,>=2.27.1->jupyterlab->jupyter) (2023.12.1)\n",
            "Requirement already satisfied: referencing>=0.28.4 in /opt/homebrew/Caskroom/miniconda/base/lib/python3.12/site-packages (from jsonschema>=4.18.0->jupyterlab-server<3,>=2.27.1->jupyterlab->jupyter) (0.35.1)\n",
            "Requirement already satisfied: rpds-py>=0.7.1 in /opt/homebrew/Caskroom/miniconda/base/lib/python3.12/site-packages (from jsonschema>=4.18.0->jupyterlab-server<3,>=2.27.1->jupyterlab->jupyter) (0.20.0)\n",
            "Requirement already satisfied: python-json-logger>=2.0.4 in /opt/homebrew/Caskroom/miniconda/base/lib/python3.12/site-packages (from jupyter-events>=0.9.0->jupyter-server<3,>=2.4.0->jupyterlab->jupyter) (2.0.7)\n",
            "Requirement already satisfied: pyyaml>=5.3 in /opt/homebrew/Caskroom/miniconda/base/lib/python3.12/site-packages (from jupyter-events>=0.9.0->jupyter-server<3,>=2.4.0->jupyterlab->jupyter) (6.0.2)\n",
            "Requirement already satisfied: rfc3339-validator in /opt/homebrew/Caskroom/miniconda/base/lib/python3.12/site-packages (from jupyter-events>=0.9.0->jupyter-server<3,>=2.4.0->jupyterlab->jupyter) (0.1.4)\n",
            "Requirement already satisfied: rfc3986-validator>=0.1.1 in /opt/homebrew/Caskroom/miniconda/base/lib/python3.12/site-packages (from jupyter-events>=0.9.0->jupyter-server<3,>=2.4.0->jupyterlab->jupyter) (0.1.1)\n",
            "Requirement already satisfied: ptyprocess>=0.5 in /opt/homebrew/Caskroom/miniconda/base/lib/python3.12/site-packages (from pexpect>4.3->ipython>=7.23.1->ipykernel->jupyter) (0.7.0)\n",
            "Requirement already satisfied: charset-normalizer<4,>=2 in /opt/homebrew/Caskroom/miniconda/base/lib/python3.12/site-packages (from requests>=2.31->jupyterlab-server<3,>=2.27.1->jupyterlab->jupyter) (3.3.2)\n",
            "Requirement already satisfied: urllib3<3,>=1.21.1 in /opt/homebrew/Caskroom/miniconda/base/lib/python3.12/site-packages (from requests>=2.31->jupyterlab-server<3,>=2.27.1->jupyterlab->jupyter) (2.2.2)\n",
            "Requirement already satisfied: executing>=1.2.0 in /opt/homebrew/Caskroom/miniconda/base/lib/python3.12/site-packages (from stack-data->ipython>=7.23.1->ipykernel->jupyter) (2.1.0)\n",
            "Requirement already satisfied: asttokens>=2.1.0 in /opt/homebrew/Caskroom/miniconda/base/lib/python3.12/site-packages (from stack-data->ipython>=7.23.1->ipykernel->jupyter) (2.4.1)\n",
            "Requirement already satisfied: pure-eval in /opt/homebrew/Caskroom/miniconda/base/lib/python3.12/site-packages (from stack-data->ipython>=7.23.1->ipykernel->jupyter) (0.2.3)\n",
            "Requirement already satisfied: fqdn in /opt/homebrew/Caskroom/miniconda/base/lib/python3.12/site-packages (from jsonschema[format-nongpl]>=4.18.0->jupyter-events>=0.9.0->jupyter-server<3,>=2.4.0->jupyterlab->jupyter) (1.5.1)\n",
            "Requirement already satisfied: isoduration in /opt/homebrew/Caskroom/miniconda/base/lib/python3.12/site-packages (from jsonschema[format-nongpl]>=4.18.0->jupyter-events>=0.9.0->jupyter-server<3,>=2.4.0->jupyterlab->jupyter) (20.11.0)\n",
            "Requirement already satisfied: jsonpointer>1.13 in /opt/homebrew/Caskroom/miniconda/base/lib/python3.12/site-packages (from jsonschema[format-nongpl]>=4.18.0->jupyter-events>=0.9.0->jupyter-server<3,>=2.4.0->jupyterlab->jupyter) (2.1)\n",
            "Requirement already satisfied: uri-template in /opt/homebrew/Caskroom/miniconda/base/lib/python3.12/site-packages (from jsonschema[format-nongpl]>=4.18.0->jupyter-events>=0.9.0->jupyter-server<3,>=2.4.0->jupyterlab->jupyter) (1.3.0)\n",
            "Requirement already satisfied: webcolors>=24.6.0 in /opt/homebrew/Caskroom/miniconda/base/lib/python3.12/site-packages (from jsonschema[format-nongpl]>=4.18.0->jupyter-events>=0.9.0->jupyter-server<3,>=2.4.0->jupyterlab->jupyter) (24.8.0)\n",
            "Requirement already satisfied: cffi>=1.0.1 in /opt/homebrew/Caskroom/miniconda/base/lib/python3.12/site-packages (from argon2-cffi-bindings->argon2-cffi>=21.1->jupyter-server<3,>=2.4.0->jupyterlab->jupyter) (1.16.0)\n",
            "Requirement already satisfied: pycparser in /opt/homebrew/Caskroom/miniconda/base/lib/python3.12/site-packages (from cffi>=1.0.1->argon2-cffi-bindings->argon2-cffi>=21.1->jupyter-server<3,>=2.4.0->jupyterlab->jupyter) (2.21)\n",
            "Requirement already satisfied: arrow>=0.15.0 in /opt/homebrew/Caskroom/miniconda/base/lib/python3.12/site-packages (from isoduration->jsonschema[format-nongpl]>=4.18.0->jupyter-events>=0.9.0->jupyter-server<3,>=2.4.0->jupyterlab->jupyter) (1.3.0)\n",
            "Requirement already satisfied: types-python-dateutil>=2.8.10 in /opt/homebrew/Caskroom/miniconda/base/lib/python3.12/site-packages (from arrow>=0.15.0->isoduration->jsonschema[format-nongpl]>=4.18.0->jupyter-events>=0.9.0->jupyter-server<3,>=2.4.0->jupyterlab->jupyter) (2.9.0.20240906)\n",
            "Requirement already satisfied: ipywidgets in /opt/homebrew/Caskroom/miniconda/base/lib/python3.12/site-packages (8.1.5)\n",
            "Requirement already satisfied: comm>=0.1.3 in /opt/homebrew/Caskroom/miniconda/base/lib/python3.12/site-packages (from ipywidgets) (0.2.2)\n",
            "Requirement already satisfied: ipython>=6.1.0 in /opt/homebrew/Caskroom/miniconda/base/lib/python3.12/site-packages (from ipywidgets) (8.27.0)\n",
            "Requirement already satisfied: traitlets>=4.3.1 in /opt/homebrew/Caskroom/miniconda/base/lib/python3.12/site-packages (from ipywidgets) (5.14.3)\n",
            "Requirement already satisfied: widgetsnbextension~=4.0.12 in /opt/homebrew/Caskroom/miniconda/base/lib/python3.12/site-packages (from ipywidgets) (4.0.13)\n",
            "Requirement already satisfied: jupyterlab-widgets~=3.0.12 in /opt/homebrew/Caskroom/miniconda/base/lib/python3.12/site-packages (from ipywidgets) (3.0.13)\n",
            "Requirement already satisfied: decorator in /opt/homebrew/Caskroom/miniconda/base/lib/python3.12/site-packages (from ipython>=6.1.0->ipywidgets) (5.1.1)\n",
            "Requirement already satisfied: jedi>=0.16 in /opt/homebrew/Caskroom/miniconda/base/lib/python3.12/site-packages (from ipython>=6.1.0->ipywidgets) (0.19.1)\n",
            "Requirement already satisfied: matplotlib-inline in /opt/homebrew/Caskroom/miniconda/base/lib/python3.12/site-packages (from ipython>=6.1.0->ipywidgets) (0.1.7)\n",
            "Requirement already satisfied: prompt-toolkit<3.1.0,>=3.0.41 in /opt/homebrew/Caskroom/miniconda/base/lib/python3.12/site-packages (from ipython>=6.1.0->ipywidgets) (3.0.48)\n",
            "Requirement already satisfied: pygments>=2.4.0 in /opt/homebrew/Caskroom/miniconda/base/lib/python3.12/site-packages (from ipython>=6.1.0->ipywidgets) (2.18.0)\n",
            "Requirement already satisfied: stack-data in /opt/homebrew/Caskroom/miniconda/base/lib/python3.12/site-packages (from ipython>=6.1.0->ipywidgets) (0.6.3)\n",
            "Requirement already satisfied: pexpect>4.3 in /opt/homebrew/Caskroom/miniconda/base/lib/python3.12/site-packages (from ipython>=6.1.0->ipywidgets) (4.9.0)\n",
            "Requirement already satisfied: parso<0.9.0,>=0.8.3 in /opt/homebrew/Caskroom/miniconda/base/lib/python3.12/site-packages (from jedi>=0.16->ipython>=6.1.0->ipywidgets) (0.8.4)\n",
            "Requirement already satisfied: ptyprocess>=0.5 in /opt/homebrew/Caskroom/miniconda/base/lib/python3.12/site-packages (from pexpect>4.3->ipython>=6.1.0->ipywidgets) (0.7.0)\n",
            "Requirement already satisfied: wcwidth in /opt/homebrew/Caskroom/miniconda/base/lib/python3.12/site-packages (from prompt-toolkit<3.1.0,>=3.0.41->ipython>=6.1.0->ipywidgets) (0.2.13)\n",
            "Requirement already satisfied: executing>=1.2.0 in /opt/homebrew/Caskroom/miniconda/base/lib/python3.12/site-packages (from stack-data->ipython>=6.1.0->ipywidgets) (2.1.0)\n",
            "Requirement already satisfied: asttokens>=2.1.0 in /opt/homebrew/Caskroom/miniconda/base/lib/python3.12/site-packages (from stack-data->ipython>=6.1.0->ipywidgets) (2.4.1)\n",
            "Requirement already satisfied: pure-eval in /opt/homebrew/Caskroom/miniconda/base/lib/python3.12/site-packages (from stack-data->ipython>=6.1.0->ipywidgets) (0.2.3)\n",
            "Requirement already satisfied: six>=1.12.0 in /opt/homebrew/Caskroom/miniconda/base/lib/python3.12/site-packages (from asttokens>=2.1.0->stack-data->ipython>=6.1.0->ipywidgets) (1.16.0)\n",
            "Requirement already satisfied: tqdm in /opt/homebrew/Caskroom/miniconda/base/lib/python3.12/site-packages (4.66.5)\n",
            "Please restart the Jupyter kernel to apply changes.\n"
          ]
        }
      ],
      "source": [
        "import sys\n",
        "import subprocess\n",
        "\n",
        "def install_and_import(package):\n",
        "    subprocess.check_call([sys.executable, \"-m\", \"pip\", \"install\", \"--upgrade\", package])\n",
        "\n",
        "# Install required packages\n",
        "packages = ['jupyter', 'ipywidgets', 'tqdm']\n",
        "for package in packages:\n",
        "    install_and_import(package)\n",
        "\n",
        "# Restart the kernel after running this cell\n",
        "print(\"Please restart the Jupyter kernel to apply changes.\")"
      ]
    },
    {
      "cell_type": "markdown",
      "metadata": {
        "id": "nPHxsBcCbEf4"
      },
      "source": [
        "## 2. Importar as Bibliotecas e preparar o Ambiente"
      ]
    },
    {
      "cell_type": "code",
      "execution_count": 9,
      "metadata": {
        "colab": {
          "base_uri": "https://localhost:8080/"
        },
        "id": "VWc5mdMabEf4",
        "outputId": "06201c0c-8e73-4108-bcf1-36b0736a339b"
      },
      "outputs": [
        {
          "name": "stdout",
          "output_type": "stream",
          "text": [
            "Using device: cpu\n"
          ]
        }
      ],
      "source": [
        "import os\n",
        "import torch\n",
        "import gzip\n",
        "from transformers import BertTokenizer, BertForSequenceClassification, Trainer, TrainingArguments\n",
        "from torch.utils.data import Dataset, DataLoader\n",
        "import pandas as pd\n",
        "import json\n",
        "import sys\n",
        "\n",
        "if 'google.colab' in sys.modules:\n",
        "    install_and_import('google-auth-oauthlib')\n",
        "\n",
        "# Verificar se temos acesso a uma GPU no Colab\n",
        "device = torch.device(\"cuda\" if torch.cuda.is_available() else \"cpu\")\n",
        "print(f\"Using device: {device}\")"
      ]
    },
    {
      "cell_type": "markdown",
      "metadata": {
        "id": "Me9kbqRLaCZy"
      },
      "source": [
        "## 3. Carregar o Tokenizer e o Modelo BERT"
      ]
    },
    {
      "cell_type": "code",
      "execution_count": 10,
      "metadata": {
        "colab": {
          "base_uri": "https://localhost:8080/"
        },
        "id": "f-V8tXruaO1G",
        "outputId": "c82a9b18-7312-4414-faa0-3a2c1a39d2e2"
      },
      "outputs": [
        {
          "name": "stderr",
          "output_type": "stream",
          "text": [
            "Some weights of BertForSequenceClassification were not initialized from the model checkpoint at bert-base-uncased and are newly initialized: ['classifier.bias', 'classifier.weight']\n",
            "You should probably TRAIN this model on a down-stream task to be able to use it for predictions and inference.\n"
          ]
        },
        {
          "data": {
            "text/plain": [
              "BertForSequenceClassification(\n",
              "  (bert): BertModel(\n",
              "    (embeddings): BertEmbeddings(\n",
              "      (word_embeddings): Embedding(30522, 768, padding_idx=0)\n",
              "      (position_embeddings): Embedding(512, 768)\n",
              "      (token_type_embeddings): Embedding(2, 768)\n",
              "      (LayerNorm): LayerNorm((768,), eps=1e-12, elementwise_affine=True)\n",
              "      (dropout): Dropout(p=0.1, inplace=False)\n",
              "    )\n",
              "    (encoder): BertEncoder(\n",
              "      (layer): ModuleList(\n",
              "        (0-11): 12 x BertLayer(\n",
              "          (attention): BertAttention(\n",
              "            (self): BertSdpaSelfAttention(\n",
              "              (query): Linear(in_features=768, out_features=768, bias=True)\n",
              "              (key): Linear(in_features=768, out_features=768, bias=True)\n",
              "              (value): Linear(in_features=768, out_features=768, bias=True)\n",
              "              (dropout): Dropout(p=0.1, inplace=False)\n",
              "            )\n",
              "            (output): BertSelfOutput(\n",
              "              (dense): Linear(in_features=768, out_features=768, bias=True)\n",
              "              (LayerNorm): LayerNorm((768,), eps=1e-12, elementwise_affine=True)\n",
              "              (dropout): Dropout(p=0.1, inplace=False)\n",
              "            )\n",
              "          )\n",
              "          (intermediate): BertIntermediate(\n",
              "            (dense): Linear(in_features=768, out_features=3072, bias=True)\n",
              "            (intermediate_act_fn): GELUActivation()\n",
              "          )\n",
              "          (output): BertOutput(\n",
              "            (dense): Linear(in_features=3072, out_features=768, bias=True)\n",
              "            (LayerNorm): LayerNorm((768,), eps=1e-12, elementwise_affine=True)\n",
              "            (dropout): Dropout(p=0.1, inplace=False)\n",
              "          )\n",
              "        )\n",
              "      )\n",
              "    )\n",
              "    (pooler): BertPooler(\n",
              "      (dense): Linear(in_features=768, out_features=768, bias=True)\n",
              "      (activation): Tanh()\n",
              "    )\n",
              "  )\n",
              "  (dropout): Dropout(p=0.1, inplace=False)\n",
              "  (classifier): Linear(in_features=768, out_features=2, bias=True)\n",
              ")"
            ]
          },
          "execution_count": 10,
          "metadata": {},
          "output_type": "execute_result"
        }
      ],
      "source": [
        "# Carregar o tokenizer BERT\n",
        "tokenizer = BertTokenizer.from_pretrained(MODELO_BASE)\n",
        "\n",
        "# Carregar o modelo BERT para classificação\n",
        "model = BertForSequenceClassification.from_pretrained(MODELO_BASE, num_labels=NUM_LABELS)\n",
        "model.to(device)"
      ]
    },
    {
      "cell_type": "markdown",
      "metadata": {
        "id": "5Ht_ZUpAaTg-"
      },
      "source": [
        "## 4. Classe Dataset para Gerenciamento de Dados"
      ]
    },
    {
      "cell_type": "code",
      "execution_count": 11,
      "metadata": {
        "id": "8nKP8fj4aVmu"
      },
      "outputs": [],
      "source": [
        "class AmazonTitlesDataset(Dataset):\n",
        "    def __init__(self, encodings, labels):\n",
        "        self.encodings = encodings\n",
        "        self.labels = labels\n",
        "\n",
        "    def __getitem__(self, idx):\n",
        "        item = {key: torch.tensor(val[idx]) for key, val in self.encodings.items()}\n",
        "        item['labels'] = torch.tensor(self.labels[idx])\n",
        "        return item\n",
        "\n",
        "    def __len__(self):\n",
        "        return len(self.labels)\n"
      ]
    },
    {
      "cell_type": "markdown",
      "metadata": {
        "id": "ZcEMaltPaZDP"
      },
      "source": [
        "## 5. Leitura em Chunks e Tokenização (para JSONL compactado em GZIP)\n",
        "Vamos ajustar a função de leitura para processar arquivos JSONL. Cada linha é um objeto JSON separado, então a função simplesmente lê uma linha por vez e cria blocos (chunks)."
      ]
    },
    {
      "cell_type": "code",
      "execution_count": 12,
      "metadata": {
        "id": "2dAULVlHacy_"
      },
      "outputs": [],
      "source": [
        "def ler_arquivo_em_blocos_jsonl_gz(caminho_arquivo, tamanho_bloco=10000):\n",
        "    with gzip.open(caminho_arquivo, 'rt') as f:  # 'rt' para ler como texto\n",
        "        bloco = []\n",
        "        for i, linha in enumerate(f):\n",
        "            bloco.append(json.loads(linha.strip()))  # Lê uma linha como JSON\n",
        "            if (i + 1) % tamanho_bloco == 0:\n",
        "                yield bloco\n",
        "                bloco = []\n",
        "        if bloco:\n",
        "            yield bloco\n",
        "\n",
        "def processar_e_tokenizar_chunk(chunk, max_length=128):\n",
        "    titles = [item['title'] for item in chunk]\n",
        "    descriptions = [item['content'] for item in chunk]\n",
        "\n",
        "    # Concatenar título e descrição\n",
        "    inputs = [f\"{title} [SEP] {description}\" for title, description in zip(titles, descriptions)]\n",
        "\n",
        "    # Tokenização\n",
        "    encodings = tokenizer(inputs, truncation=True, padding=True, max_length=max_length)\n",
        "\n",
        "    # Exemplo de rótulos fictícios; substitua conforme necessário\n",
        "    labels = [1] * len(chunk)\n",
        "\n",
        "    return encodings, labels\n",
        "\n",
        "# Função para detectar o ambiente de execução\n",
        "def detectar_ambiente():\n",
        "    if 'google.colab' in sys.modules:\n",
        "        return 'colab_gpu' if torch.cuda.is_available() else 'colab_cpu'\n",
        "    else:\n",
        "        return 'local'\n",
        "\n",
        "# Função para obter o diretório de checkpoints\n",
        "def obter_diretorio_checkpoints():\n",
        "    ambiente = detectar_ambiente()\n",
        "    if ambiente.startswith('colab'):\n",
        "        try:\n",
        "            from google.colab import drive # type: ignore\n",
        "            drive.mount('/content/drive')\n",
        "            return '/content/drive/MyDrive/AI_checkpoints'\n",
        "        except ImportError:\n",
        "            print(\"Não foi possível importar o módulo 'drive'. Verifique se está no ambiente Colab.\")\n",
        "            return None\n",
        "    else:\n",
        "        return './checkpoints'\n",
        "\n",
        "def salvar_progresso(modelo, tokenizer, chunk_atual):\n",
        "    checkpoint_dir = obter_diretorio_checkpoints()\n",
        "    os.makedirs(checkpoint_dir, exist_ok=True)\n",
        "    \n",
        "    modelo.save_pretrained(f'{checkpoint_dir}/checkpoint_{chunk_atual}')\n",
        "    tokenizer.save_pretrained(f'{checkpoint_dir}/checkpoint_{chunk_atual}')\n",
        "    \n",
        "    with open(f'{checkpoint_dir}/ultimo_chunk.txt', 'w') as f:\n",
        "        f.write(str(chunk_atual))\n",
        "    \n",
        "    checkpoints = sorted([c for c in os.listdir(checkpoint_dir) if c.startswith('checkpoint_')])\n",
        "    for checkpoint in checkpoints[:-2]:\n",
        "        os.system(f'rm -rf {checkpoint_dir}/{checkpoint}')\n",
        "\n",
        "def carregar_ultimo_checkpoint():\n",
        "    checkpoint_dir = obter_diretorio_checkpoints()\n",
        "    if os.path.exists(f'{checkpoint_dir}/ultimo_chunk.txt'):\n",
        "        with open(f'{checkpoint_dir}/ultimo_chunk.txt', 'r') as f:\n",
        "            ultimo_chunk = int(f.read().strip())\n",
        "        \n",
        "        modelo = BertForSequenceClassification.from_pretrained(f'{checkpoint_dir}/checkpoint_{ultimo_chunk}')\n",
        "        tokenizer = BertTokenizer.from_pretrained(f'{checkpoint_dir}/checkpoint_{ultimo_chunk}')\n",
        "        \n",
        "        return modelo, tokenizer, ultimo_chunk\n",
        "    return None, None, 0\n",
        "\n"
      ]
    },
    {
      "cell_type": "markdown",
      "metadata": {
        "id": "4gstltPAamtS"
      },
      "source": [
        "## 6. Configuração do Treinamento\n"
      ]
    },
    {
      "cell_type": "code",
      "execution_count": 13,
      "metadata": {
        "id": "QWpJ9PD-aqh2"
      },
      "outputs": [],
      "source": [
        "training_args = TrainingArguments(\n",
        "    output_dir=OUTPUT_DIR,                                   # Diretório de saída para os resultados\n",
        "    num_train_epochs=NUM_TRAIN_EPOCHS,                       # Número de épocas\n",
        "    per_device_train_batch_size=PER_DEVICE_TRAIN_BATCH_SIZE, # Tamanho do batch\n",
        "    save_steps=SAVE_STEPS,                                   # Salvar checkpoints a cada 1000 passos\n",
        "    save_total_limit=SAVE_TOTAL_LIMIT,                       # Limite de dois checkpoints salvos\n",
        "    logging_dir=LOGGING_DIR,                                 # Diretório de logs\n",
        ")\n"
      ]
    },
    {
      "cell_type": "markdown",
      "metadata": {
        "id": "78Pr9BUcayOO"
      },
      "source": [
        "## 7. Função de Treinamento por Chunk\n"
      ]
    },
    {
      "cell_type": "code",
      "execution_count": 14,
      "metadata": {
        "id": "a7aFybBgazRG"
      },
      "outputs": [],
      "source": [
        "def treinar_com_chunk(encodings, labels):\n",
        "    dataset = AmazonTitlesDataset(encodings, labels)\n",
        "    trainer = Trainer(\n",
        "        model=model,\n",
        "        args=training_args,\n",
        "        train_dataset=dataset,\n",
        "    )\n",
        "    # Treina o modelo usando o chunk atual\n",
        "    trainer.train()\n"
      ]
    },
    {
      "cell_type": "markdown",
      "metadata": {
        "id": "PjecW_dcbEf4"
      },
      "source": [
        "## 8. Baixar dados o Google Drive\n",
        "\n",
        "Vamos baixar os dados do Google Drive para acessar os arquivos que contêm os dados de treinamento e teste."
      ]
    },
    {
      "cell_type": "code",
      "execution_count": 15,
      "metadata": {
        "colab": {
          "base_uri": "https://localhost:8080/"
        },
        "id": "ZAr7wqiBbEf5",
        "outputId": "a3a54f06-c7cc-413e-f023-5739389dee23"
      },
      "outputs": [
        {
          "name": "stdout",
          "output_type": "stream",
          "text": [
            "Downloading...\n",
            "From (original): https://drive.google.com/uc?id=12zH4mL2RX8iSvH0VCNnd3QxO4DzuHWnK\n",
            "From (redirected): https://drive.google.com/uc?id=12zH4mL2RX8iSvH0VCNnd3QxO4DzuHWnK&confirm=t&uuid=f417f6b9-149d-4474-9d40-cb7eed12a732\n",
            "To: /Users/argentino/Desktop/IA/fiap-ia4devs-techchallenge-fase3/Datasets/LF-Amazon-1.3M.raw.zip\n",
            "100%|████████████████████████████████████████| 890M/890M [00:31<00:00, 28.2MB/s]\n",
            "Archive:  LF-Amazon-1.3M.raw.zip\n",
            "   creating: LF-Amazon-1.3M/\n",
            "  inflating: LF-Amazon-1.3M/lbl.json.gz  \n",
            "  inflating: LF-Amazon-1.3M/trn.json.gz  \n",
            "  inflating: LF-Amazon-1.3M/filter_labels_test.txt  \n",
            "  inflating: LF-Amazon-1.3M/tst.json.gz  \n",
            "  inflating: LF-Amazon-1.3M/filter_labels_train.txt  \n"
          ]
        }
      ],
      "source": [
        "!mkdir -p Datasets\n",
        "!cd Datasets; gdown 12zH4mL2RX8iSvH0VCNnd3QxO4DzuHWnK;\n",
        "!cd Datasets; unzip LF-Amazon-1.3M.raw.zip; mkdir -p LF-AmazonTitles-1.3M/raw; mv LF-Amazon-1.3M/* LF-AmazonTitles-1.3M"
      ]
    },
    {
      "cell_type": "markdown",
      "metadata": {
        "id": "p9PvllxxbBUt"
      },
      "source": [
        "## 9. Processar e Treinar em Chunks\n",
        "A função principal que faz a leitura do arquivo JSONL em chunks e realiza o fine-tuning do modelo BERT em cada chunk."
      ]
    },
    {
      "cell_type": "code",
      "execution_count": null,
      "metadata": {
        "colab": {
          "base_uri": "https://localhost:8080/",
          "height": 156
        },
        "id": "Z0Lxn5E4bFpW",
        "outputId": "490e2cfc-5a29-4b7c-8baa-2265ee34c4ee"
      },
      "outputs": [
        {
          "name": "stdout",
          "output_type": "stream",
          "text": [
            "Ambiente detectado: local\n",
            "Processando chunk 2\n"
          ]
        },
        {
          "data": {
            "application/vnd.jupyter.widget-view+json": {
              "model_id": "4847b0ff0af74c59a9fb50f75776bda8",
              "version_major": 2,
              "version_minor": 0
            },
            "text/plain": [
              "  0%|          | 0/1875 [00:00<?, ?it/s]"
            ]
          },
          "metadata": {},
          "output_type": "display_data"
        },
        {
          "ename": "KeyboardInterrupt",
          "evalue": "",
          "output_type": "error",
          "traceback": [
            "\u001b[0;31m---------------------------------------------------------------------------\u001b[0m",
            "\u001b[0;31mKeyboardInterrupt\u001b[0m                         Traceback (most recent call last)",
            "Cell \u001b[0;32mIn[16], line 25\u001b[0m\n\u001b[1;32m     22\u001b[0m encodings, labels \u001b[38;5;241m=\u001b[39m processar_e_tokenizar_chunk(chunk)\n\u001b[1;32m     24\u001b[0m \u001b[38;5;66;03m# Executar treinamento no chunk atual\u001b[39;00m\n\u001b[0;32m---> 25\u001b[0m \u001b[43mtreinar_com_chunk\u001b[49m\u001b[43m(\u001b[49m\u001b[43mencodings\u001b[49m\u001b[43m,\u001b[49m\u001b[43m \u001b[49m\u001b[43mlabels\u001b[49m\u001b[43m)\u001b[49m\n\u001b[1;32m     27\u001b[0m \u001b[38;5;66;03m# Salvar o progresso após cada chunk\u001b[39;00m\n\u001b[1;32m     28\u001b[0m salvar_progresso(model, tokenizer, i)\n",
            "Cell \u001b[0;32mIn[14], line 9\u001b[0m, in \u001b[0;36mtreinar_com_chunk\u001b[0;34m(encodings, labels)\u001b[0m\n\u001b[1;32m      3\u001b[0m trainer \u001b[38;5;241m=\u001b[39m Trainer(\n\u001b[1;32m      4\u001b[0m     model\u001b[38;5;241m=\u001b[39mmodel,\n\u001b[1;32m      5\u001b[0m     args\u001b[38;5;241m=\u001b[39mtraining_args,\n\u001b[1;32m      6\u001b[0m     train_dataset\u001b[38;5;241m=\u001b[39mdataset,\n\u001b[1;32m      7\u001b[0m )\n\u001b[1;32m      8\u001b[0m \u001b[38;5;66;03m# Treina o modelo usando o chunk atual\u001b[39;00m\n\u001b[0;32m----> 9\u001b[0m \u001b[43mtrainer\u001b[49m\u001b[38;5;241;43m.\u001b[39;49m\u001b[43mtrain\u001b[49m\u001b[43m(\u001b[49m\u001b[43m)\u001b[49m\n",
            "File \u001b[0;32m/opt/homebrew/Caskroom/miniconda/base/lib/python3.12/site-packages/transformers/trainer.py:2052\u001b[0m, in \u001b[0;36mTrainer.train\u001b[0;34m(self, resume_from_checkpoint, trial, ignore_keys_for_eval, **kwargs)\u001b[0m\n\u001b[1;32m   2050\u001b[0m         hf_hub_utils\u001b[38;5;241m.\u001b[39menable_progress_bars()\n\u001b[1;32m   2051\u001b[0m \u001b[38;5;28;01melse\u001b[39;00m:\n\u001b[0;32m-> 2052\u001b[0m     \u001b[38;5;28;01mreturn\u001b[39;00m \u001b[43minner_training_loop\u001b[49m\u001b[43m(\u001b[49m\n\u001b[1;32m   2053\u001b[0m \u001b[43m        \u001b[49m\u001b[43margs\u001b[49m\u001b[38;5;241;43m=\u001b[39;49m\u001b[43margs\u001b[49m\u001b[43m,\u001b[49m\n\u001b[1;32m   2054\u001b[0m \u001b[43m        \u001b[49m\u001b[43mresume_from_checkpoint\u001b[49m\u001b[38;5;241;43m=\u001b[39;49m\u001b[43mresume_from_checkpoint\u001b[49m\u001b[43m,\u001b[49m\n\u001b[1;32m   2055\u001b[0m \u001b[43m        \u001b[49m\u001b[43mtrial\u001b[49m\u001b[38;5;241;43m=\u001b[39;49m\u001b[43mtrial\u001b[49m\u001b[43m,\u001b[49m\n\u001b[1;32m   2056\u001b[0m \u001b[43m        \u001b[49m\u001b[43mignore_keys_for_eval\u001b[49m\u001b[38;5;241;43m=\u001b[39;49m\u001b[43mignore_keys_for_eval\u001b[49m\u001b[43m,\u001b[49m\n\u001b[1;32m   2057\u001b[0m \u001b[43m    \u001b[49m\u001b[43m)\u001b[49m\n",
            "File \u001b[0;32m/opt/homebrew/Caskroom/miniconda/base/lib/python3.12/site-packages/transformers/trainer.py:2393\u001b[0m, in \u001b[0;36mTrainer._inner_training_loop\u001b[0;34m(self, batch_size, args, resume_from_checkpoint, trial, ignore_keys_for_eval)\u001b[0m\n\u001b[1;32m   2387\u001b[0m \u001b[38;5;28;01mwith\u001b[39;00m \u001b[38;5;28mself\u001b[39m\u001b[38;5;241m.\u001b[39maccelerator\u001b[38;5;241m.\u001b[39maccumulate(model):\n\u001b[1;32m   2388\u001b[0m     tr_loss_step \u001b[38;5;241m=\u001b[39m \u001b[38;5;28mself\u001b[39m\u001b[38;5;241m.\u001b[39mtraining_step(model, inputs)\n\u001b[1;32m   2390\u001b[0m \u001b[38;5;28;01mif\u001b[39;00m (\n\u001b[1;32m   2391\u001b[0m     args\u001b[38;5;241m.\u001b[39mlogging_nan_inf_filter\n\u001b[1;32m   2392\u001b[0m     \u001b[38;5;129;01mand\u001b[39;00m \u001b[38;5;129;01mnot\u001b[39;00m is_torch_xla_available()\n\u001b[0;32m-> 2393\u001b[0m     \u001b[38;5;129;01mand\u001b[39;00m (torch\u001b[38;5;241m.\u001b[39misnan(tr_loss_step) \u001b[38;5;129;01mor\u001b[39;00m \u001b[43mtorch\u001b[49m\u001b[38;5;241;43m.\u001b[39;49m\u001b[43misinf\u001b[49m\u001b[43m(\u001b[49m\u001b[43mtr_loss_step\u001b[49m\u001b[43m)\u001b[49m)\n\u001b[1;32m   2394\u001b[0m ):\n\u001b[1;32m   2395\u001b[0m     \u001b[38;5;66;03m# if loss is nan or inf simply add the average of previous logged losses\u001b[39;00m\n\u001b[1;32m   2396\u001b[0m     tr_loss \u001b[38;5;241m+\u001b[39m\u001b[38;5;241m=\u001b[39m tr_loss \u001b[38;5;241m/\u001b[39m (\u001b[38;5;241m1\u001b[39m \u001b[38;5;241m+\u001b[39m \u001b[38;5;28mself\u001b[39m\u001b[38;5;241m.\u001b[39mstate\u001b[38;5;241m.\u001b[39mglobal_step \u001b[38;5;241m-\u001b[39m \u001b[38;5;28mself\u001b[39m\u001b[38;5;241m.\u001b[39m_globalstep_last_logged)\n\u001b[1;32m   2397\u001b[0m \u001b[38;5;28;01melse\u001b[39;00m:\n",
            "\u001b[0;31mKeyboardInterrupt\u001b[0m: "
          ]
        }
      ],
      "source": [
        "# Processar o arquivo compactado trn.json.gz e realizar o fine-tuning em chunks\n",
        "caminho_arquivo = ARQUIVO_TREINAMENTO\n",
        "\n",
        "# Atualizar a parte principal do script\n",
        "ambiente = detectar_ambiente()\n",
        "print(f\"Ambiente detectado: {ambiente}\")\n",
        "\n",
        "# Carregar o último checkpoint, se existir\n",
        "modelo_carregado, tokenizer_carregado, ultimo_chunk_processado = carregar_ultimo_checkpoint()\n",
        "if modelo_carregado is not None:\n",
        "    model = modelo_carregado\n",
        "    tokenizer = tokenizer_carregado\n",
        "    print(f\"Retomando o treinamento a partir do chunk {ultimo_chunk_processado + 1}\")\n",
        "\n",
        "for i, chunk in enumerate(ler_arquivo_em_blocos_jsonl_gz(caminho_arquivo, tamanho_bloco=TAMANHO_BLOCO)):\n",
        "    # Pular chunks já processados\n",
        "    if i <= ultimo_chunk_processado:\n",
        "        print(f\"Chunk {i+1} já processado. Pulando...\")\n",
        "        continue\n",
        "\n",
        "    print(f\"Processando chunk {i+1}\")\n",
        "\n",
        "    encodings, labels = processar_e_tokenizar_chunk(chunk)\n",
        "\n",
        "    # Executar treinamento no chunk atual\n",
        "    treinar_com_chunk(encodings, labels)\n",
        "\n",
        "    # Salvar o progresso após cada chunk\n",
        "    salvar_progresso(model, tokenizer, i)\n",
        "\n",
        "    print(f\"Treinamento com chunk {i+1} completo.\")\n",
        "\n"
      ]
    },
    {
      "cell_type": "markdown",
      "metadata": {
        "id": "RKGUvtpIbLQY"
      },
      "source": [
        "## 10. Salvar o Modelo Fine-Tuned\n",
        "Depois de processar todos os chunks e realizar o fine-tuning do modelo, salvamos o modelo treinado."
      ]
    },
    {
      "cell_type": "code",
      "execution_count": null,
      "metadata": {
        "id": "X8l8d-kubPEG"
      },
      "outputs": [],
      "source": [
        "# Salvar o modelo fine-tuned e o tokenizer\n",
        "model.save_pretrained('./1IADT')\n",
        "tokenizer.save_pretrained('./1IADT')\n",
        "\n",
        "print(\"Modelo fine-tuned salvo com sucesso.\")"
      ]
    }
  ],
  "metadata": {
    "accelerator": "GPU",
    "colab": {
      "gpuType": "T4",
      "include_colab_link": true,
      "provenance": []
    },
    "kernelspec": {
      "display_name": "Python 3",
      "name": "python3"
    },
    "language_info": {
      "codemirror_mode": {
        "name": "ipython",
        "version": 3
      },
      "file_extension": ".py",
      "mimetype": "text/x-python",
      "name": "python",
      "nbconvert_exporter": "python",
      "pygments_lexer": "ipython3",
      "version": "3.12.4"
    }
  },
  "nbformat": 4,
  "nbformat_minor": 0
}
