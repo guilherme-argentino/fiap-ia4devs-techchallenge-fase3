{
 "cells": [
  {
   "cell_type": "markdown",
   "metadata": {},
   "source": [
    "# Fine-tuning do Modelo BERT com AmazonTitles-1.3MM\n",
    "\n",
    "Neste notebook, realizaremos o fine-tuning do modelo BERT (`bert-base-uncased`) usando o dataset \"The AmazonTitles-1.3MM\". O objetivo é treinar o modelo para que ele consiga gerar descrições de produtos com base em seus títulos."
   ]
  },
  {
   "cell_type": "code",
   "execution_count": null,
   "metadata": {},
   "outputs": [],
   "source": [
    "# Instalar as bibliotecas necessárias\n",
    "!pip install datasets transformers"
   ]
  },
  {
   "cell_type": "markdown",
   "metadata": {},
   "source": [
    "## 2. Importar as Bibliotecas\n",
    "\n",
    "Agora, importaremos as bibliotecas necessárias para nosso trabalho."
   ]
  },
  {
   "cell_type": "code",
   "execution_count": null,
   "metadata": {},
   "outputs": [],
   "source": [
    "from datasets import load_dataset\n",
    "from transformers import AutoTokenizer, BertForMaskedLM, Trainer, TrainingArguments\n",
    "import torch"
   ]
  },
  {
   "cell_type": "markdown",
   "metadata": {},
   "source": [
    "## 3. Montar o Google Drive\n",
    "\n",
    "Vamos montar o Google Drive para acessar os arquivos que contêm os dados de treinamento e teste."
   ]
  },
  {
   "cell_type": "code",
   "execution_count": null,
   "metadata": {},
   "outputs": [],
   "source": [
    "from google.colab import drive\n",
    "drive.mount('/content/drive')"
   ]
  },
  {
   "cell_type": "markdown",
   "metadata": {},
   "source": [
    "## 4. Carregar o Dataset de Treinamento\n",
    "\n",
    "Carregaremos o dataset de treinamento (`trn.json`) utilizando a biblioteca `datasets`."
   ]
  },
  {
   "cell_type": "code",
   "execution_count": null,
   "metadata": {},
   "outputs": [],
   "source": [
    "jsonl_file = '/content/drive/My Drive/caminho_para_o_seu_arquivo/trn.json'  # Altere para o caminho correto\n",
    "dataset = load_dataset('json', data_files=jsonl_file, split='train')"
   ]
  },
  {
   "cell_type": "markdown",
   "metadata": {},
   "source": [
    "## 5. Processar o Dataset de Treinamento\n",
    "\n",
    "Vamos processar os dados, criando prompts para o modelo com base nos títulos dos produtos e suas descrições."
   ]
  },
  {
   "cell_type": "code",
   "execution_count": null,
   "metadata": {},
   "outputs": [],
   "source": [
    "dados_processados = []\n",
    "for example in dataset:\n",
    "    title = example.get('title', '')\n",
    "    content = example.get('content', '')\n",
    "    prompt = f\"Descreva o produto com o título '{title}'?\"\n",
    "    dados_processados.append({\"input_text\": prompt, \"output_text\": content})"
   ]
  },
  {
   "cell_type": "markdown",
   "metadata": {},
   "source": [
    "## 6. Tokenizar os Dados de Treinamento\n",
    "\n",
    "Utilizaremos o `AutoTokenizer` da biblioteca `transformers` para tokenizar os dados de entrada e saída."
   ]
  },
  {
   "cell_type": "code",
   "execution_count": null,
   "metadata": {},
   "outputs": [],
   "source": [
    "tokenizer = AutoTokenizer.from_pretrained(\"bert-base-uncased\")\n",
    "\n",
    "def tokenize_function(examples):\n",
    "    inputs = tokenizer(examples['input_text'], padding=\"max_length\", truncation=True, max_length=512)\n",
    "    outputs = tokenizer(examples['output_text'], padding=\"max_length\", truncation=True, max_length=512)\n",
    "    inputs['labels'] = outputs['input_ids']\n",
    "    return inputs\n",
    "\n",
    "dados_tokenizados = [tokenize_function(example) for example in dados_processados]"
   ]
  },
  {
   "cell_type": "markdown",
   "metadata": {},
   "source": [
    "## 7. Criar o Dataset de Treinamento\n",
    "\n",
    "Agora, criaremos o dataset de treinamento e dividiremos em conjuntos de treino e validação."
   ]
  },
  {
   "cell_type": "code",
   "execution_count": null,
   "metadata": {},
   "outputs": [],
   "source": [
    "from datasets import Dataset\n",
    "hf_dataset = Dataset.from_list(dados_tokenizados)\n",
    "train_test_split = hf_dataset.train_test_split(test_size=0.2)"
   ]
  },
  {
   "cell_type": "markdown",
   "metadata": {},
   "source": [
    "## 8. Configurar e Treinar o Modelo\n",
    "\n",
    "Iremos configurar o modelo BERT para o fine-tuning e definir os parâmetros de treinamento."
   ]
  },
  {
   "cell_type": "code",
   "execution_count": null,
   "metadata": {},
   "outputs": [],
   "source": [
    "model = BertForMaskedLM.from_pretrained(\"bert-base-uncased\")\n",
    "\n",
    "training_args = TrainingArguments(\n",
    "    output_dir=\"./results\",\n",
    "    evaluation_strategy=\"epoch\",\n",
    "    per_device_train_batch_size=8,\n",
    "    per_device_eval_batch_size=8,\n",
    "    logging_dir=\"./logs\",\n",
    "    logging_steps=500,\n",
    "    save_steps=1000,\n",
    "    num_train_epochs=3,\n",
    "    save_total_limit=2,\n",
    ")\n",
    "\n",
    "trainer = Trainer(\n",
    "    model=model,\n",
    "    args=training_args,\n",
    "    train_dataset=train_test_split['train'],\n",
    "    eval_dataset=train_test_split['test'],\n",
    ")"
   ]
  },
  {
   "cell_type": "markdown",
   "metadata": {},
   "source": [
    "## 9. Treinar o Modelo\n",
    "\n",
    "Agora vamos iniciar o treinamento do modelo."
   ]
  },
  {
   "cell_type": "code",
   "execution_count": null,
   "metadata": {},
   "outputs": [],
   "source": [
    "trainer.train()"
   ]
  },
  {
   "cell_type": "markdown",
   "metadata": {},
   "source": [
    "## 10. Carregar o Conjunto de Teste\n",
    "\n",
    "Em seguida, carregaremos o conjunto de teste (`tst.json`)."
   ]
  },
  {
   "cell_type": "code",
   "execution_count": null,
   "metadata": {},
   "outputs": [],
   "source": [
    "tst_json_file = '/content/drive/My Drive/caminho_para_o_seu_arquivo/tst.json'  # Altere para o caminho correto\n",
    "test_dataset = load_dataset('json', data_files=tst_json_file, split='train')"
   ]
  },
  {
   "cell_type": "markdown",
   "metadata": {},
   "source": [
    "## 11. Processar o Conjunto de Teste\n",
    "\n",
    "Processaremos o conjunto de teste da mesma forma que fizemos com o conjunto de treinamento."
   ]
  },
  {
   "cell_type": "code",
   "execution_count": null,
   "metadata": {},
   "outputs": [],
   "source": [
    "test_dados_processados = []\n",
    "for example in test_dataset:\n",
    "    title = example.get('title', '')\n",
    "    prompt = f\"Descreva o produto com o título '{title}'?\"\n",
    "    test_dados_processados.append({\"input_text\": prompt})"
   ]
  },
  {
   "cell_type": "markdown",
   "metadata": {},
   "source": [
    "## 12. Tokenizar o Conjunto de Teste\n",
    "\n",
    "Tokenizaremos o conjunto de teste para que possamos usá-lo na avaliação do modelo."
   ]
  },
  {
   "cell_type": "code",
   "execution_count": null,
   "metadata": {},
   "outputs": [],
   "source": [
    "test_dados_tokenizados = [tokenizer(example['input_text'], padding=\"max_length\", truncation=True, max_length=512) for example in test_dados_processados]"
   ]
  },
  {
   "cell_type": "markdown",
   "metadata": {},
   "source": [
    "## 13. Avaliar o Modelo\n",
    "\n",
    "Iremos avaliar o modelo utilizando o conjunto de teste que preparamos."
   ]
  },
  {
   "cell_type": "code",
   "execution_count": null,
   "metadata": {},
   "outputs": [],
   "source": [
    "def gerar_respostas(model, tokenized_inputs):\n",
    "    model.eval()\n",
    "    with torch.no_grad():\n",
    "        outputs = model(**tokenized_inputs)\n",
    "    return outputs\n",
    "\n",
    "respostas = []\n",
    "for tokenized_input in test_dados_tokenizados:\n",
    "    resposta = gerar_respostas(model, tokenized_input)\n",
    "    respostas.append(resposta)"
   ]
  },
  {
   "cell_type": "markdown",
   "metadata": {},
   "source": [
    "## 14. Exibir Algumas Respostas Geradas\n",
    "\n",
    "Por fim, exibiremos algumas respostas geradas pelo modelo."
   ]
  },
  {
   "cell_type": "code",
   "execution_count": null,
   "metadata": {},
   "outputs": [],
   "source": [
    "print(respostas[:5])"
   ]
  }
 ],
 "metadata": {
  "kernelspec": {
   "display_name": "Python 3",
   "language": "python",
   "name": "python3"
  },
  "language_info": {
   "codemirror_mode": {
    "name": "ipython",
    "version": 3
   },
   "file_extension": ".py",
   "mimetype": "text/x-python",
   "name": "python",
   "nbconvert_exporter": "python",
   "pygments_lexer": "ipython3",
   "version": "3.7.10"
  }
 },
 "nbformat": 4,
 "nbformat_minor": 4
}
